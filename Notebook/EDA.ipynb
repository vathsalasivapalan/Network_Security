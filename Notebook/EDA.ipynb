{
 "cells": [
  {
   "cell_type": "code",
   "execution_count": 1,
   "id": "86b7e44d",
   "metadata": {},
   "outputs": [],
   "source": [
    "import os"
   ]
  },
  {
   "cell_type": "code",
   "execution_count": 11,
   "id": "54ad83c5",
   "metadata": {},
   "outputs": [],
   "source": [
    "%%capture\n",
    "pip install pandas"
   ]
  },
  {
   "cell_type": "code",
   "execution_count": 1,
   "id": "b972bd9a",
   "metadata": {},
   "outputs": [],
   "source": [
    "import pandas as pd"
   ]
  },
  {
   "cell_type": "code",
   "execution_count": 15,
   "id": "12e92ba1",
   "metadata": {},
   "outputs": [],
   "source": [
    "data =pd.read_csv(r\"..\\\\Network_data\\\\NetworkData.csv\")"
   ]
  },
  {
   "cell_type": "code",
   "execution_count": 16,
   "id": "7b880064",
   "metadata": {},
   "outputs": [
    {
     "data": {
      "text/plain": [
       "(11055, 31)"
      ]
     },
     "execution_count": 16,
     "metadata": {},
     "output_type": "execute_result"
    }
   ],
   "source": [
    "data.shape"
   ]
  },
  {
   "cell_type": "code",
   "execution_count": 17,
   "id": "7c978ea5",
   "metadata": {},
   "outputs": [
    {
     "data": {
      "text/plain": [
       "Index(['having_IP_Address', 'URL_Length', 'Shortining_Service',\n",
       "       'having_At_Symbol', 'double_slash_redirecting', 'Prefix_Suffix',\n",
       "       'having_Sub_Domain', 'SSLfinal_State', 'Domain_registeration_length',\n",
       "       'Favicon', 'port', 'HTTPS_token', 'Request_URL', 'URL_of_Anchor',\n",
       "       'Links_in_tags', 'SFH', 'Submitting_to_email', 'Abnormal_URL',\n",
       "       'Redirect', 'on_mouseover', 'RightClick', 'popUpWidnow', 'Iframe',\n",
       "       'age_of_domain', 'DNSRecord', 'web_traffic', 'Page_Rank',\n",
       "       'Google_Index', 'Links_pointing_to_page', 'Statistical_report',\n",
       "       'Result'],\n",
       "      dtype='object')"
      ]
     },
     "execution_count": 17,
     "metadata": {},
     "output_type": "execute_result"
    }
   ],
   "source": [
    "data.columns"
   ]
  },
  {
   "cell_type": "code",
   "execution_count": 18,
   "id": "ae475a13",
   "metadata": {},
   "outputs": [
    {
     "name": "stdout",
     "output_type": "stream",
     "text": [
      "<class 'pandas.core.frame.DataFrame'>\n",
      "RangeIndex: 11055 entries, 0 to 11054\n",
      "Data columns (total 31 columns):\n",
      " #   Column                       Non-Null Count  Dtype\n",
      "---  ------                       --------------  -----\n",
      " 0   having_IP_Address            11055 non-null  int64\n",
      " 1   URL_Length                   11055 non-null  int64\n",
      " 2   Shortining_Service           11055 non-null  int64\n",
      " 3   having_At_Symbol             11055 non-null  int64\n",
      " 4   double_slash_redirecting     11055 non-null  int64\n",
      " 5   Prefix_Suffix                11055 non-null  int64\n",
      " 6   having_Sub_Domain            11055 non-null  int64\n",
      " 7   SSLfinal_State               11055 non-null  int64\n",
      " 8   Domain_registeration_length  11055 non-null  int64\n",
      " 9   Favicon                      11055 non-null  int64\n",
      " 10  port                         11055 non-null  int64\n",
      " 11  HTTPS_token                  11055 non-null  int64\n",
      " 12  Request_URL                  11055 non-null  int64\n",
      " 13  URL_of_Anchor                11055 non-null  int64\n",
      " 14  Links_in_tags                11055 non-null  int64\n",
      " 15  SFH                          11055 non-null  int64\n",
      " 16  Submitting_to_email          11055 non-null  int64\n",
      " 17  Abnormal_URL                 11055 non-null  int64\n",
      " 18  Redirect                     11055 non-null  int64\n",
      " 19  on_mouseover                 11055 non-null  int64\n",
      " 20  RightClick                   11055 non-null  int64\n",
      " 21  popUpWidnow                  11055 non-null  int64\n",
      " 22  Iframe                       11055 non-null  int64\n",
      " 23  age_of_domain                11055 non-null  int64\n",
      " 24  DNSRecord                    11055 non-null  int64\n",
      " 25  web_traffic                  11055 non-null  int64\n",
      " 26  Page_Rank                    11055 non-null  int64\n",
      " 27  Google_Index                 11055 non-null  int64\n",
      " 28  Links_pointing_to_page       11055 non-null  int64\n",
      " 29  Statistical_report           11055 non-null  int64\n",
      " 30  Result                       11055 non-null  int64\n",
      "dtypes: int64(31)\n",
      "memory usage: 2.6 MB\n"
     ]
    }
   ],
   "source": [
    "data.info()"
   ]
  },
  {
   "cell_type": "code",
   "execution_count": 21,
   "id": "7eaec2f5",
   "metadata": {},
   "outputs": [
    {
     "data": {
      "text/plain": [
       "{'columns': {'having_IP_Address': 'int64',\n",
       "  'URL_Length': 'int64',\n",
       "  'Shortining_Service': 'int64',\n",
       "  'having_At_Symbol': 'int64',\n",
       "  'double_slash_redirecting': 'int64',\n",
       "  'Prefix_Suffix': 'int64',\n",
       "  'having_Sub_Domain': 'int64',\n",
       "  'SSLfinal_State': 'int64',\n",
       "  'Domain_registeration_length': 'int64',\n",
       "  'Favicon': 'int64',\n",
       "  'port': 'int64',\n",
       "  'HTTPS_token': 'int64',\n",
       "  'Request_URL': 'int64',\n",
       "  'URL_of_Anchor': 'int64',\n",
       "  'Links_in_tags': 'int64',\n",
       "  'SFH': 'int64',\n",
       "  'Submitting_to_email': 'int64',\n",
       "  'Abnormal_URL': 'int64',\n",
       "  'Redirect': 'int64',\n",
       "  'on_mouseover': 'int64',\n",
       "  'RightClick': 'int64',\n",
       "  'popUpWidnow': 'int64',\n",
       "  'Iframe': 'int64',\n",
       "  'age_of_domain': 'int64',\n",
       "  'DNSRecord': 'int64',\n",
       "  'web_traffic': 'int64',\n",
       "  'Page_Rank': 'int64',\n",
       "  'Google_Index': 'int64',\n",
       "  'Links_pointing_to_page': 'int64',\n",
       "  'Statistical_report': 'int64',\n",
       "  'Result': 'int64'},\n",
       " 'numerical_columns': ['having_IP_Address',\n",
       "  'URL_Length',\n",
       "  'Shortining_Service',\n",
       "  'having_At_Symbol',\n",
       "  'double_slash_redirecting',\n",
       "  'Prefix_Suffix',\n",
       "  'having_Sub_Domain',\n",
       "  'SSLfinal_State',\n",
       "  'Domain_registeration_length',\n",
       "  'Favicon',\n",
       "  'port',\n",
       "  'HTTPS_token',\n",
       "  'Request_URL',\n",
       "  'URL_of_Anchor',\n",
       "  'Links_in_tags',\n",
       "  'SFH',\n",
       "  'Submitting_to_email',\n",
       "  'Abnormal_URL',\n",
       "  'Redirect',\n",
       "  'on_mouseover',\n",
       "  'RightClick',\n",
       "  'popUpWidnow',\n",
       "  'Iframe',\n",
       "  'age_of_domain',\n",
       "  'DNSRecord',\n",
       "  'web_traffic',\n",
       "  'Page_Rank',\n",
       "  'Google_Index',\n",
       "  'Links_pointing_to_page',\n",
       "  'Statistical_report']}"
      ]
     },
     "execution_count": 21,
     "metadata": {},
     "output_type": "execute_result"
    }
   ],
   "source": [
    "# Separate target column\n",
    "target_col = \"Result\"\n",
    "\n",
    "# Get all columns\n",
    "all_columns = data.columns.tolist()\n",
    "\n",
    "# Identify numerical columns (in your dataset, all are int64)\n",
    "numerical_columns = [col for col in all_columns if col != target_col]\n",
    "\n",
    "# Create schema dictionary\n",
    "schema = {\n",
    "    \"columns\": {col: str(data[col].dtype) for col in all_columns},\n",
    "    \"numerical_columns\": numerical_columns\n",
    "}\n",
    "\n",
    "schema"
   ]
  },
  {
   "cell_type": "code",
   "execution_count": null,
   "id": "9364c367",
   "metadata": {},
   "outputs": [],
   "source": []
  }
 ],
 "metadata": {
  "kernelspec": {
   "display_name": "Python 3",
   "language": "python",
   "name": "python3"
  },
  "language_info": {
   "codemirror_mode": {
    "name": "ipython",
    "version": 3
   },
   "file_extension": ".py",
   "mimetype": "text/x-python",
   "name": "python",
   "nbconvert_exporter": "python",
   "pygments_lexer": "ipython3",
   "version": "3.10.18"
  }
 },
 "nbformat": 4,
 "nbformat_minor": 5
}
